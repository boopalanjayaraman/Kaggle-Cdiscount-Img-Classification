{
 "cells": [
  {
   "cell_type": "code",
   "execution_count": 1,
   "metadata": {
    "collapsed": true
   },
   "outputs": [],
   "source": [
    "import numpy as np\n",
    "import pandas as pd\n",
    "import io\n",
    "import bson\n",
    "import matplotlib.pyplot as plt\n",
    "from skimage.data import imread\n",
    "import multiprocessing as mp\n",
    "import pickle"
   ]
  },
  {
   "cell_type": "code",
   "execution_count": 2,
   "metadata": {
    "collapsed": true
   },
   "outputs": [],
   "source": [
    "NCORE = 8\n",
    "all_categories = mp.Manager().list()\n",
    "'''final_data = mp.Manager().list() #for multi core processing\n",
    "final_test_data = mp.Manager().list() #for multi core processing'''\n",
    "\n",
    "final_data = list() #for multi core processing\n",
    "final_test_data = list() #for multi core processing\n",
    "\n",
    "#initialize arrays\n",
    "final_test_data_array = np.array([])\n",
    "final_data_array = np.array([])\n",
    "all_categories_array = np.array([])\n",
    "\n",
    "#categories to int dictionary\n",
    "categ_to_int = {}\n",
    "int_to_categ = {}\n",
    "\n",
    "#total number of items in the list\n",
    "n_train = 7069896 #from kaggle page\n",
    "n_test = 1768182 #from kaggle page\n",
    "n_example = 100 #from kaggle page\n",
    "\n",
    "all_categories_filename_format = 'allcategoriesdata_{0}.p'\n",
    "train_data_batch_file_format = 'train_data_batch_{0}_{1}.p'\n",
    "test_data_batch_file_format = 'test_data_batch_{0}_{1}.p'\n",
    "\n",
    "show_every = 10000"
   ]
  },
  {
   "cell_type": "code",
   "execution_count": 3,
   "metadata": {
    "collapsed": true
   },
   "outputs": [],
   "source": [
    "import time"
   ]
  },
  {
   "cell_type": "code",
   "execution_count": 4,
   "metadata": {
    "collapsed": true
   },
   "outputs": [],
   "source": [
    "import os.path\n",
    "\n",
    "def process_all_categories(filepath):\n",
    "    \"\"\"\n",
    "    processes all categories and forms the list\n",
    "    : filepath: file path\n",
    "    \"\"\"\n",
    "    process_filename = filepath[filepath.rfind('/')+1:]\n",
    "    filename_suffix = process_filename.replace('.bson','')\n",
    "    categories_filename = all_categories_filename_format.format(filename_suffix)\n",
    "    if os.path.isfile(categories_filename):\n",
    "        print('File already exists. Seems already it is processed.')\n",
    "        return\n",
    "\n",
    "    def process_record_multicore_category(queue, iolock):\n",
    "        while True:\n",
    "            record = queue.get()\n",
    "            if record is None:\n",
    "                break\n",
    "            \n",
    "            all_categories.append(record['category_id'])\n",
    "    \n",
    "    queue = mp.Queue(maxsize=NCORE)\n",
    "    iolock = mp.Lock()\n",
    "    pool = mp.Pool(NCORE, initializer=process_record_multicore_category, initargs=(queue, iolock))\n",
    "    \n",
    "    #loading data from file\n",
    "    data = bson.decode_file_iter(open(filepath, 'rb'))\n",
    "    \n",
    "    print('Starting to go through the file. Time: {0}'.format(time.ctime()))\n",
    "    for c, record in enumerate(data):\n",
    "        queue.put(record)\n",
    "        if c % 100000 ==0:\n",
    "            print ('records processed: {0}, time: {1}'.format(c, time.ctime()))\n",
    "    \n",
    "    # tell workers we're done and join the stuff\n",
    "    for _ in range(NCORE):\n",
    "        queue.put(None)\n",
    "    pool.close()\n",
    "    pool.join()\n",
    "    print('File is processed. Time: {0}'.format(time.ctime()))\n",
    "    \n",
    "    all_categories_array = np.array(list(set(all_categories)))\n",
    "\n",
    "    #process the categories and save them\n",
    "    process_all_categories_array(all_categories_array, categories_filename)\n",
    "    print('all categories processed.')"
   ]
  },
  {
   "cell_type": "code",
   "execution_count": 5,
   "metadata": {
    "collapsed": true
   },
   "outputs": [],
   "source": [
    "#data record preprocess sub-function \n",
    "def process_record_train(record):\n",
    "    \"\"\"\n",
    "    processes each record from the training / test file during preprocessing function execution for training dataset\n",
    "    : record: record to be processed\n",
    "    : return: void\n",
    "    \"\"\" \n",
    "    product_id = record['_id']\n",
    "    category_id = record['category_id']\n",
    "    for e, pic in enumerate(record['imgs']):\n",
    "        picture = imread(io.BytesIO(pic['picture']))    \n",
    "        #adding a record for each image with same product id and category id (ungrouping the images)\n",
    "        flattened_picture = np.reshape(picture, -1)\n",
    "        input_row = flattened_picture\n",
    "        np.insert(input_row, 0, category_id) #will be pushed to second column\n",
    "        np.insert(input_row, 0, product_id)\n",
    "        final_data.append(input_row)"
   ]
  },
  {
   "cell_type": "code",
   "execution_count": 6,
   "metadata": {
    "collapsed": true
   },
   "outputs": [],
   "source": [
    "#data record preprocess sub-function for test data set\n",
    "def process_record_test(record):\n",
    "    \"\"\"\n",
    "    processes each record from the training / test file during preprocessing function execution for test data set\n",
    "    : record: record to be processed\n",
    "    : return: void\n",
    "    \"\"\"\n",
    "    product_id = record['_id']  \n",
    "    for e, pic in enumerate(record['imgs']):\n",
    "        picture = imread(io.BytesIO(pic['picture']))\n",
    "        #adding a record for each image with same product id and category id (ungrouping the images)\n",
    "        flattened_picture = np.reshape(picture, -1)\n",
    "        input_row = flattened_picture\n",
    "        np.insert(input_row, 0, product_id)\n",
    "        final_test_data.append(input_row)"
   ]
  },
  {
   "cell_type": "code",
   "execution_count": 7,
   "metadata": {
    "collapsed": true
   },
   "outputs": [],
   "source": [
    "#data preprocess function \n",
    "def process_training_file(data, enum_start=None, limit = None, file_suffix=''):\n",
    "    \"\"\"\n",
    "    processes the training file and saves them to batch files for loading them later\n",
    "    : filepath: path of the training file\n",
    "    : return: void\n",
    "    \"\"\"\n",
    "   \n",
    "    #loading data from file\n",
    "    print('Starting to go through the Set. Time: {0}'.format(time.ctime()))\n",
    "    \n",
    "    init =  0 if enum_start == None else enum_start\n",
    "    for c, record in enumerate(data, start=init):\n",
    "        if(c % show_every ==0):\n",
    "            print('processed records: {0}'.format(c))\n",
    "        if(c > limit):\n",
    "            break\n",
    "        process_record_train(record)\n",
    "        \n",
    "    print('File is processed. Time: {0}'.format(time.ctime()))\n",
    "    \n",
    "    global final_data_array, final_data\n",
    "    final_data_array = np.array(final_data)\n",
    "    \n",
    "    #save preprocessed data to batch files after one hot encoding them\n",
    "    if enum_start == None:\n",
    "        batch = 10\n",
    "    else:\n",
    "        batch = 1\n",
    "    save_preprocessed_data(final_data_array, batch, file_suffix)\n",
    "    print('Preprocessing is done and saved. Time: {0}'.format(time.ctime()))"
   ]
  },
  {
   "cell_type": "code",
   "execution_count": 8,
   "metadata": {
    "collapsed": true
   },
   "outputs": [],
   "source": [
    "#test data preprocess function \n",
    "def process_test_file(data, enum_start=0, limit=None, file_suffix=''):\n",
    "    \"\"\"\n",
    "    processes test file and saves the output to batch files for loading them later\n",
    "    : filepath: path of the test file on disk\n",
    "    : return: void\n",
    "    \"\"\"\n",
    "    #loading data from file\n",
    "    print('TestFile: Starting to go through the Set. Time: {0}'.format(time.ctime()))\n",
    "    \n",
    "    init =  0 if enum_start == None else enum_start\n",
    "    \n",
    "    for c, record in enumerate(data, start=init):\n",
    "        if(c % show_every==0):\n",
    "            print('processed records: {0}'.format(c))\n",
    "        if(c > limit):\n",
    "            break\n",
    "        process_record_test(record)\n",
    "    \n",
    "    print('TestFile: File is processed. Time: {0}'.format(time.ctime()))\n",
    "    \n",
    "    global final_test_data_array, final_test_data\n",
    "    final_test_data_array = np.array(final_test_data)\n",
    "    \n",
    "    #save preprocessed data to batch files after one hot encoding them\n",
    "    if enum_start == 0:\n",
    "        batch = 10\n",
    "    else:\n",
    "        batch = 1\n",
    "    save_preprocessed_test_data(final_test_data_array, batch, file_suffix)\n",
    "    print('Preprocessing is done and saved. Time: {0}'.format(time.ctime()))"
   ]
  },
  {
   "cell_type": "code",
   "execution_count": 9,
   "metadata": {
    "collapsed": true
   },
   "outputs": [],
   "source": [
    "def process_all_categories_array(all_categories_array, processed_filename):\n",
    "    \"\"\"\n",
    "    processes all categories found in training data and creates dictionaries for faster reference\n",
    "    : all_categories_array: array that contains all categories to form one hot encoding\n",
    "    : return: void\n",
    "    \"\"\"\n",
    "    global categ_to_int, int_to_categ\n",
    "    categories_length = len(all_categories_array)\n",
    "    categ_to_int = { categ:idx for idx, categ in enumerate(all_categories_array) }\n",
    "    int_to_categ = { idx:categ for idx, categ in enumerate(all_categories_array) }\n",
    "    \n",
    "    pickle.dump((categ_to_int, int_to_categ), open(processed_filename, 'wb'))"
   ]
  },
  {
   "cell_type": "code",
   "execution_count": 10,
   "metadata": {
    "collapsed": true
   },
   "outputs": [],
   "source": [
    "def load_categ_to_int_dicts(data_file_path):\n",
    "    \"\"\"\n",
    "    restores categ_to_int and int_to_categ object dictionaries from saved state files if exist\n",
    "    : data_file_path: actual data file path - to represent the mode (train or train example)\n",
    "    \"\"\"\n",
    "    process_filename = data_file_path[data_file_path.rfind('/')+1:]\n",
    "    filename_suffix = process_filename.replace('.bson','')\n",
    "    categories_filename = all_categories_filename_format.format(filename_suffix)\n",
    "    \n",
    "    with open(categories_filename, 'rb') as f:\n",
    "        \n",
    "        global categ_to_int, int_to_categ\n",
    "        \n",
    "        categ_to_int, int_to_categ = pickle.load(f)"
   ]
  },
  {
   "cell_type": "code",
   "execution_count": 11,
   "metadata": {
    "collapsed": true
   },
   "outputs": [],
   "source": [
    "def create_one_hot_label(original_label, label_length, one_hot_labels):\n",
    "    \"\"\"\n",
    "    creates one hot label for a given original label value. A sub function for multi core processing of one hot encode function\n",
    "    : label_length: length of label to initialize the array\n",
    "    : one_hot_labels: the array that contains all one hot label\n",
    "    : return: void\n",
    "    \"\"\"\n",
    "    one_hot_label = np.zeros(label_length)\n",
    "    one_hot_label[categ_to_int[original_label]] = 1\n",
    "    one_hot_labels.append(one_hot_label)\n",
    "\n",
    "def one_hot_encode(data_batch):\n",
    "    \"\"\"\n",
    "    creates one hot encoded label for the given data batch using multi-core processing\n",
    "    : data_batch: the sub-section of original final training data\n",
    "    : return: array of one hot encoded label\n",
    "    \"\"\"\n",
    "    one_hot_labels = list()\n",
    "    label_length = len(categ_to_int)\n",
    "    \n",
    "    for i in range(len(data_batch)):\n",
    "        original_label = data_batch[i][1] # category column\n",
    "        create_one_hot_label(original_label, label_length, one_hot_labels)\n",
    "\n",
    "    one_hot_labels = np.array(list(one_hot_labels))\n",
    "    \n",
    "    return one_hot_labels"
   ]
  },
  {
   "cell_type": "code",
   "execution_count": 12,
   "metadata": {
    "collapsed": true
   },
   "outputs": [],
   "source": [
    "def save_preprocessed_data(final_data_array, batches = 10, file_suffix=''):\n",
    "    \"\"\"\n",
    "    saves preprocessed data array into batch files using pickle\n",
    "    : final_data_array: data array formed from file\n",
    "    : batches: number of files to be created for saving\n",
    "    : return: void\n",
    "    \"\"\"\n",
    "    final_data_length = len(final_data_array)\n",
    "    # one hot encode all the categories / labels\n",
    "    labels_array = one_hot_encode(final_data_array)\n",
    "    \n",
    "    count_per_batch = final_data_length // batches\n",
    "    \n",
    "    final_data_array= final_data_array[:batches*count_per_batch]\n",
    "    labels_array = labels_array[:batches*count_per_batch]\n",
    "    \n",
    "    for batch in range(batches):\n",
    "        features = final_data_array[(batch * count_per_batch): ((batch+1) * count_per_batch)]\n",
    "        labels =  labels_array[(batch * count_per_batch): ((batch+1) * count_per_batch)]\n",
    "        \n",
    "        filename = train_data_batch_file_format.format(batch, file_suffix)\n",
    "        pickle.dump((features, labels), open(filename, 'wb'))"
   ]
  },
  {
   "cell_type": "code",
   "execution_count": 13,
   "metadata": {
    "collapsed": true
   },
   "outputs": [],
   "source": [
    "def save_preprocessed_test_data(final_test_data_array, batches = 10, file_suffix = ''):\n",
    "    \"\"\"\n",
    "    saves preprocessed data array into batch files using pickle\n",
    "    : final_test_data_array: test data array formed from file\n",
    "    : batches: number of files to be created for saving\n",
    "    : return: void\n",
    "    \"\"\"\n",
    "    final_data_length = len(final_test_data_array)\n",
    "    \n",
    "    count_per_batch = final_data_length // batches\n",
    "    \n",
    "    final_test_data_array= final_test_data_array[:batches*count_per_batch]\n",
    "    \n",
    "    for batch in range(batches):\n",
    "        features = final_test_data_array[(batch * count_per_batch): ((batch+1) * count_per_batch)]\n",
    "        \n",
    "        filename = test_data_batch_file_format.format(batch, file_suffix)\n",
    "        pickle.dump((features), open(filename, 'wb'))"
   ]
  },
  {
   "cell_type": "code",
   "execution_count": 81,
   "metadata": {},
   "outputs": [
    {
     "name": "stdout",
     "output_type": "stream",
     "text": [
      "Starting to go through the file. Time: Tue Oct 10 20:44:58 2017\n",
      "records processed: 0, time: Tue Oct 10 20:44:58 2017\n",
      "File is processed. Time: Tue Oct 10 20:44:58 2017\n",
      "all categories processed.\n"
     ]
    }
   ],
   "source": [
    "process_all_categories('data/train_example.bson')"
   ]
  },
  {
   "cell_type": "code",
   "execution_count": 37,
   "metadata": {},
   "outputs": [
    {
     "name": "stdout",
     "output_type": "stream",
     "text": [
      "Multicore processing Queue, Lock, and Pool have been initialized and set up.\n",
      "The data file has been loaded.\n",
      "Starting to go through the file. Time: Tue Oct 10 19:52:25 2017\n",
      "File is processed. Time: Tue Oct 10 19:52:25 2017\n",
      "Preprocessing is done and saved. Time: Tue Oct 10 19:52:25 2017\n"
     ]
    }
   ],
   "source": [
    "#test with training example file\n",
    "\n",
    "process_training_file('data/train_example.bson')"
   ]
  },
  {
   "cell_type": "code",
   "execution_count": null,
   "metadata": {
    "collapsed": true
   },
   "outputs": [],
   "source": [
    "final_data_array[:,1]"
   ]
  },
  {
   "cell_type": "code",
   "execution_count": null,
   "metadata": {
    "collapsed": true
   },
   "outputs": [],
   "source": [
    "#process_training_file('data/train.bson')"
   ]
  },
  {
   "cell_type": "code",
   "execution_count": 85,
   "metadata": {
    "collapsed": true
   },
   "outputs": [],
   "source": [
    "#load_categ_to_int_dicts('data/train_example.bson')"
   ]
  },
  {
   "cell_type": "code",
   "execution_count": 88,
   "metadata": {},
   "outputs": [
    {
     "name": "stdout",
     "output_type": "stream",
     "text": [
      "Starting to go through the file. Time: Tue Oct 10 20:47:24 2017\n",
      "records processed: 0, time: Tue Oct 10 20:47:24 2017\n",
      "records processed: 100000, time: Tue Oct 10 20:47:30 2017\n",
      "records processed: 200000, time: Tue Oct 10 20:47:37 2017\n",
      "records processed: 300000, time: Tue Oct 10 20:47:44 2017\n",
      "records processed: 400000, time: Tue Oct 10 20:47:50 2017\n",
      "records processed: 500000, time: Tue Oct 10 20:47:57 2017\n",
      "records processed: 600000, time: Tue Oct 10 20:48:03 2017\n",
      "records processed: 700000, time: Tue Oct 10 20:48:10 2017\n",
      "records processed: 800000, time: Tue Oct 10 20:48:16 2017\n",
      "records processed: 900000, time: Tue Oct 10 20:48:23 2017\n",
      "records processed: 1000000, time: Tue Oct 10 20:48:29 2017\n",
      "records processed: 1100000, time: Tue Oct 10 20:48:36 2017\n",
      "records processed: 1200000, time: Tue Oct 10 20:48:43 2017\n",
      "records processed: 1300000, time: Tue Oct 10 20:48:49 2017\n",
      "records processed: 1400000, time: Tue Oct 10 20:48:56 2017\n",
      "records processed: 1500000, time: Tue Oct 10 20:49:02 2017\n",
      "records processed: 1600000, time: Tue Oct 10 20:49:09 2017\n",
      "records processed: 1700000, time: Tue Oct 10 20:49:15 2017\n",
      "records processed: 1800000, time: Tue Oct 10 20:49:22 2017\n",
      "records processed: 1900000, time: Tue Oct 10 20:49:28 2017\n",
      "records processed: 2000000, time: Tue Oct 10 20:49:35 2017\n",
      "records processed: 2100000, time: Tue Oct 10 20:49:43 2017\n",
      "records processed: 2200000, time: Tue Oct 10 20:49:50 2017\n",
      "records processed: 2300000, time: Tue Oct 10 20:49:58 2017\n",
      "records processed: 2400000, time: Tue Oct 10 20:50:05 2017\n",
      "records processed: 2500000, time: Tue Oct 10 20:50:13 2017\n",
      "records processed: 2600000, time: Tue Oct 10 20:50:21 2017\n",
      "records processed: 2700000, time: Tue Oct 10 20:50:29 2017\n",
      "records processed: 2800000, time: Tue Oct 10 20:50:36 2017\n",
      "records processed: 2900000, time: Tue Oct 10 20:50:44 2017\n",
      "records processed: 3000000, time: Tue Oct 10 20:50:51 2017\n",
      "records processed: 3100000, time: Tue Oct 10 20:50:59 2017\n",
      "records processed: 3200000, time: Tue Oct 10 20:51:06 2017\n",
      "records processed: 3300000, time: Tue Oct 10 20:51:13 2017\n",
      "records processed: 3400000, time: Tue Oct 10 20:51:21 2017\n",
      "records processed: 3500000, time: Tue Oct 10 20:51:28 2017\n",
      "records processed: 3600000, time: Tue Oct 10 20:51:35 2017\n",
      "records processed: 3700000, time: Tue Oct 10 20:51:42 2017\n",
      "records processed: 3800000, time: Tue Oct 10 20:51:50 2017\n",
      "records processed: 3900000, time: Tue Oct 10 20:51:57 2017\n",
      "records processed: 4000000, time: Tue Oct 10 20:52:04 2017\n",
      "records processed: 4100000, time: Tue Oct 10 20:52:12 2017\n",
      "records processed: 4200000, time: Tue Oct 10 20:52:19 2017\n",
      "records processed: 4300000, time: Tue Oct 10 20:52:27 2017\n",
      "records processed: 4400000, time: Tue Oct 10 20:52:34 2017\n",
      "records processed: 4500000, time: Tue Oct 10 20:52:42 2017\n",
      "records processed: 4600000, time: Tue Oct 10 20:52:49 2017\n",
      "records processed: 4700000, time: Tue Oct 10 20:52:56 2017\n",
      "records processed: 4800000, time: Tue Oct 10 20:53:04 2017\n",
      "records processed: 4900000, time: Tue Oct 10 20:53:11 2017\n",
      "records processed: 5000000, time: Tue Oct 10 20:53:18 2017\n",
      "records processed: 5100000, time: Tue Oct 10 20:53:26 2017\n",
      "records processed: 5200000, time: Tue Oct 10 20:53:33 2017\n",
      "records processed: 5300000, time: Tue Oct 10 20:53:40 2017\n",
      "records processed: 5400000, time: Tue Oct 10 20:53:48 2017\n",
      "records processed: 5500000, time: Tue Oct 10 20:53:55 2017\n",
      "records processed: 5600000, time: Tue Oct 10 20:54:02 2017\n",
      "records processed: 5700000, time: Tue Oct 10 20:54:10 2017\n",
      "records processed: 5800000, time: Tue Oct 10 20:54:18 2017\n",
      "records processed: 5900000, time: Tue Oct 10 20:54:26 2017\n",
      "records processed: 6000000, time: Tue Oct 10 20:54:34 2017\n",
      "records processed: 6100000, time: Tue Oct 10 20:54:41 2017\n",
      "records processed: 6200000, time: Tue Oct 10 20:54:49 2017\n",
      "records processed: 6300000, time: Tue Oct 10 20:54:56 2017\n",
      "records processed: 6400000, time: Tue Oct 10 20:55:04 2017\n",
      "records processed: 6500000, time: Tue Oct 10 20:55:11 2017\n",
      "records processed: 6600000, time: Tue Oct 10 20:55:18 2017\n",
      "records processed: 6700000, time: Tue Oct 10 20:55:26 2017\n",
      "records processed: 6800000, time: Tue Oct 10 20:55:35 2017\n",
      "records processed: 6900000, time: Tue Oct 10 20:55:42 2017\n",
      "records processed: 7000000, time: Tue Oct 10 20:55:49 2017\n",
      "File is processed. Time: Tue Oct 10 20:55:54 2017\n",
      "all categories processed.\n"
     ]
    }
   ],
   "source": [
    "process_all_categories('data/train.bson')"
   ]
  },
  {
   "cell_type": "code",
   "execution_count": 89,
   "metadata": {},
   "outputs": [
    {
     "data": {
      "text/plain": [
       "'Tue Oct 10 21:02:47 2017'"
      ]
     },
     "execution_count": 89,
     "metadata": {},
     "output_type": "execute_result"
    }
   ],
   "source": [
    "time.ctime()"
   ]
  },
  {
   "cell_type": "code",
   "execution_count": 14,
   "metadata": {
    "collapsed": true
   },
   "outputs": [],
   "source": [
    "load_categ_to_int_dicts('data/train.bson')"
   ]
  },
  {
   "cell_type": "code",
   "execution_count": 32,
   "metadata": {},
   "outputs": [
    {
     "data": {
      "text/plain": [
       "5270"
      ]
     },
     "execution_count": 32,
     "metadata": {},
     "output_type": "execute_result"
    }
   ],
   "source": [
    "len(categ_to_int)"
   ]
  },
  {
   "cell_type": "code",
   "execution_count": 15,
   "metadata": {
    "collapsed": true
   },
   "outputs": [],
   "source": [
    "def preprocess_test_batches(filepath, override_batch=None):\n",
    "    \"\"\"\n",
    "    preprocesses batches and saves them in batches to end up losing data due to long running processes\n",
    "    : filepath: path of file to be processed\n",
    "    \"\"\"\n",
    "    input_data = bson.decode_file_iter(open(filepath, 'rb'))\n",
    "    \n",
    "    limit = 500000\n",
    "    batches_count = int(n_train / limit)\n",
    "    batch_range = batches_count if override_batch is None else override_batch\n",
    "    for batch_idx in range(batches_count):\n",
    "        print('starting with batch: {0}'.format(batch_idx))\n",
    "        result_filename = test_data_batch_file_format.format(0, batch_idx)\n",
    "        if os.path.isfile(result_filename):\n",
    "            print('Batch File: {0} already exists. Seems already it is processed. Moving on..'.format(result_filename))\n",
    "            continue\n",
    "        process_test_file(input_data, enum_start=batch_idx*limit, limit=(batch_idx+1)*limit, file_suffix=batch_idx)\n",
    "        \n",
    "    print('all test files are preprocessed. cool!')"
   ]
  },
  {
   "cell_type": "code",
   "execution_count": 16,
   "metadata": {
    "collapsed": true
   },
   "outputs": [],
   "source": [
    "def preprocess_training_batches(filepath, override_batch=None):\n",
    "    \"\"\"\n",
    "    preprocesses batches and saves them in batches to end up losing data due to long running processes\n",
    "    : filepath: path of file to be processed\n",
    "    \"\"\"\n",
    "    input_data = bson.decode_file_iter(open(filepath, 'rb'))\n",
    "    \n",
    "    limit = 500000\n",
    "    batches_count = int(n_train / limit)\n",
    "    batch_range = batches_count if override_batch is None else override_batch\n",
    "    for batch_idx in range(batches_count):\n",
    "        print('starting with batch: {0}'.format(batch_idx))\n",
    "        result_filename = train_data_batch_file_format.format(0, batch_idx)\n",
    "        if os.path.isfile(result_filename):\n",
    "            print('Batch File: {0} already exists. Seems already it is processed. Moving on..'.format(result_filename))\n",
    "            continue\n",
    "        process_training_file(input_data, enum_start=batch_idx*limit, limit=(batch_idx+1)*limit, file_suffix=batch_idx)\n",
    "        \n",
    "    print('all training files are preprocessed. cool!')"
   ]
  },
  {
   "cell_type": "code",
   "execution_count": null,
   "metadata": {},
   "outputs": [
    {
     "name": "stdout",
     "output_type": "stream",
     "text": [
      "starting with batch: 0\n",
      "Starting to go through the Set. Time: Wed Oct 11 22:18:43 2017\n",
      "processed records: 0\n",
      "processed records: 10000\n",
      "processed records: 20000\n",
      "processed records: 30000\n",
      "processed records: 40000\n",
      "processed records: 50000\n",
      "processed records: 60000\n",
      "processed records: 70000\n",
      "processed records: 80000\n",
      "processed records: 90000\n",
      "processed records: 100000\n",
      "processed records: 110000\n",
      "processed records: 120000\n",
      "processed records: 130000\n",
      "processed records: 140000\n",
      "processed records: 150000\n",
      "processed records: 160000\n",
      "processed records: 170000\n",
      "processed records: 180000\n",
      "processed records: 190000\n",
      "processed records: 200000\n",
      "processed records: 210000\n",
      "processed records: 220000\n",
      "processed records: 230000\n",
      "processed records: 240000\n",
      "processed records: 250000\n",
      "processed records: 260000\n",
      "processed records: 270000\n",
      "processed records: 280000\n",
      "processed records: 290000\n",
      "processed records: 300000\n",
      "processed records: 310000\n",
      "processed records: 320000\n",
      "processed records: 330000\n",
      "processed records: 340000\n",
      "processed records: 350000\n",
      "processed records: 360000\n",
      "processed records: 370000\n",
      "processed records: 380000\n",
      "processed records: 390000\n",
      "processed records: 400000\n",
      "processed records: 410000\n",
      "processed records: 420000\n",
      "processed records: 430000\n",
      "processed records: 440000\n",
      "processed records: 450000\n",
      "processed records: 460000\n",
      "processed records: 470000\n",
      "processed records: 480000\n",
      "processed records: 490000\n",
      "processed records: 500000\n",
      "processed records: 510000\n",
      "processed records: 520000\n",
      "processed records: 530000\n",
      "processed records: 540000\n",
      "processed records: 550000\n",
      "processed records: 560000\n",
      "processed records: 570000\n",
      "processed records: 580000\n",
      "processed records: 590000\n",
      "processed records: 600000\n",
      "processed records: 610000\n",
      "processed records: 620000\n",
      "processed records: 630000\n",
      "processed records: 640000\n",
      "processed records: 650000\n",
      "processed records: 660000\n",
      "processed records: 670000\n",
      "processed records: 680000\n",
      "processed records: 690000\n",
      "processed records: 700000\n",
      "processed records: 710000\n",
      "processed records: 720000\n",
      "processed records: 730000\n"
     ]
    }
   ],
   "source": [
    "preprocess_training_batches('data/train.bson', 1)"
   ]
  },
  {
   "cell_type": "code",
   "execution_count": null,
   "metadata": {
    "collapsed": true
   },
   "outputs": [],
   "source": [
    "time.ctime()"
   ]
  },
  {
   "cell_type": "code",
   "execution_count": null,
   "metadata": {
    "collapsed": true
   },
   "outputs": [],
   "source": []
  }
 ],
 "metadata": {
  "kernelspec": {
   "display_name": "Python 3",
   "language": "python",
   "name": "python3"
  },
  "language_info": {
   "codemirror_mode": {
    "name": "ipython",
    "version": 3
   },
   "file_extension": ".py",
   "mimetype": "text/x-python",
   "name": "python",
   "nbconvert_exporter": "python",
   "pygments_lexer": "ipython3",
   "version": "3.6.2"
  }
 },
 "nbformat": 4,
 "nbformat_minor": 2
}
