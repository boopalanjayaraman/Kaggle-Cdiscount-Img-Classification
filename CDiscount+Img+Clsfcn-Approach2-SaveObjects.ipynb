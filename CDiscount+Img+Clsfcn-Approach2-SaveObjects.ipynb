{
 "cells": [
  {
   "cell_type": "code",
   "execution_count": 1,
   "metadata": {
    "collapsed": true
   },
   "outputs": [],
   "source": [
    "import numpy as np\n",
    "import pandas as pd\n",
    "import io\n",
    "import bson\n",
    "import matplotlib.pyplot as plt\n",
    "from skimage.data import imread\n",
    "import multiprocessing as mp\n",
    "import pickle"
   ]
  },
  {
   "cell_type": "code",
   "execution_count": 2,
   "metadata": {
    "collapsed": true
   },
   "outputs": [],
   "source": [
    "NCORE = 8\n",
    "all_categories = mp.Manager().list()\n",
    "\n",
    "all_categories_array = np.array([])\n",
    "\n",
    "#categories to int dictionary\n",
    "categ_to_int = {}\n",
    "int_to_categ = {}\n",
    "\n",
    "#total number of items in the list\n",
    "n_train = 7069896 #from kaggle page\n",
    "n_test = 1768182 #from kaggle page\n",
    "n_example = 100 #from kaggle page\n",
    "\n",
    "all_categories_filename_format = 'allcategoriesdata_{0}.p'\n",
    "train_data_batch_file_format = 'training_batches/train_data_batch_{0}_{1}.p'\n",
    "test_data_batch_file_format = 'testing_batches/test_data_batch_{0}_{1}.p'\n",
    "\n",
    "train_data_features_csv = 'training_batches/train_features_batch_{0}_{1}.csv' #changed from .gz to .csv \n",
    "train_data_labels_csv = 'training_batches/train_labels_batch_{0}_{1}.csv'\n",
    "\n",
    "test_data_features_csv = 'testing_batches/test_features_batch_{0}_{1}.csv'\n",
    "\n",
    "\n",
    "show_every = 10000"
   ]
  },
  {
   "cell_type": "code",
   "execution_count": 3,
   "metadata": {
    "collapsed": true
   },
   "outputs": [],
   "source": [
    "import time"
   ]
  },
  {
   "cell_type": "code",
   "execution_count": 4,
   "metadata": {
    "collapsed": true
   },
   "outputs": [],
   "source": [
    "import os.path\n",
    "\n",
    "def process_all_categories(filepath):\n",
    "    \"\"\"\n",
    "    processes all categories and forms the list\n",
    "    : filepath: file path\n",
    "    \"\"\"\n",
    "    process_filename = filepath[filepath.rfind('/')+1:]\n",
    "    filename_suffix = process_filename.replace('.bson','')\n",
    "    categories_filename = all_categories_filename_format.format(filename_suffix)\n",
    "    if os.path.isfile(categories_filename):\n",
    "        print('File already exists. Seems already it is processed.')\n",
    "        return\n",
    "\n",
    "    def process_record_multicore_category(queue, iolock):\n",
    "        while True:\n",
    "            record = queue.get()\n",
    "            if record is None:\n",
    "                break\n",
    "            \n",
    "            all_categories.append(record['category_id'])\n",
    "    \n",
    "    queue = mp.Queue(maxsize=NCORE)\n",
    "    iolock = mp.Lock()\n",
    "    pool = mp.Pool(NCORE, initializer=process_record_multicore_category, initargs=(queue, iolock))\n",
    "    \n",
    "    #loading data from file\n",
    "    data = bson.decode_file_iter(open(filepath, 'rb'))\n",
    "    \n",
    "    print('Starting to go through the file. Time: {0}'.format(time.ctime()))\n",
    "    for c, record in enumerate(data):\n",
    "        queue.put(record)\n",
    "        if c % 100000 ==0:\n",
    "            print ('records processed: {0}, time: {1}'.format(c, time.ctime()))\n",
    "    \n",
    "    # tell workers we're done and join the stuff\n",
    "    for _ in range(NCORE):\n",
    "        queue.put(None)\n",
    "    pool.close()\n",
    "    pool.join()\n",
    "    print('File is processed. Time: {0}'.format(time.ctime()))\n",
    "    \n",
    "    all_categories_array = np.array(list(set(all_categories)))\n",
    "\n",
    "    #process the categories and save them\n",
    "    process_all_categories_array(all_categories_array, categories_filename)\n",
    "    print('all categories processed.')"
   ]
  },
  {
   "cell_type": "code",
   "execution_count": 5,
   "metadata": {
    "collapsed": true
   },
   "outputs": [],
   "source": [
    "#data record preprocess sub-function \n",
    "def process_record_train(record, final_data_features, final_data_labels):\n",
    "    \"\"\"\n",
    "    processes each record from the training / test file during preprocessing function execution for training dataset\n",
    "    : record: record to be processed\n",
    "    : return: void\n",
    "    \"\"\" \n",
    "    product_id = record['_id']\n",
    "    category_id = record['category_id']\n",
    "    for e, pic in enumerate(record['imgs']):\n",
    "        picture = imread(io.BytesIO(pic['picture']))    \n",
    "        #adding a record for each image with same product id and category id (ungrouping the images)\n",
    "        '''flattened_picture = np.reshape(picture, -1)\n",
    "        input_row = np.array(flattened_picture, dtype='int16')\n",
    "        input_row = np.insert(input_row, 0, categ_to_int[category_id]) #will be pushed to second column \n",
    "        #pushed int value of category to reduce memory size so we can stay with int16\n",
    "        input_row = np.insert(input_row, 0, product_id)\n",
    "        final_data.append(input_row)'''\n",
    "        \n",
    "        label_row = [product_id, categ_to_int[category_id]]\n",
    "        final_data_features.append(picture)\n",
    "        final_data_labels.append(label_row)"
   ]
  },
  {
   "cell_type": "code",
   "execution_count": 6,
   "metadata": {
    "collapsed": true
   },
   "outputs": [],
   "source": [
    "#data record preprocess sub-function for test data set\n",
    "def process_record_test(record, final_test_data_features, final_test_data_labels):\n",
    "    \"\"\"\n",
    "    processes each record from the training / test file during preprocessing function execution for test data set\n",
    "    : record: record to be processed\n",
    "    : return: void\n",
    "    \"\"\"\n",
    "    product_id = record['_id']  \n",
    "    for e, pic in enumerate(record['imgs']):\n",
    "        picture = imread(io.BytesIO(pic['picture']))\n",
    "        #adding a record for each image with same product id and category id (ungrouping the images)\n",
    "        '''flattened_picture = np.reshape(picture, -1)\n",
    "        input_row = np.array(flattened_picture, dtype='int16')\n",
    "        input_row = np.insert(input_row, 0, product_id)\n",
    "        final_test_data.append(input_row)'''\n",
    "        \n",
    "        label_row = [product_id]\n",
    "        final_test_data_features.append(picture)\n",
    "        final_test_data_labels.append(label_row)"
   ]
  },
  {
   "cell_type": "code",
   "execution_count": 7,
   "metadata": {
    "collapsed": true
   },
   "outputs": [],
   "source": [
    "#data preprocess function \n",
    "def process_training_file(data, enum_start=None, limit = None, file_suffix=''):\n",
    "    \"\"\"\n",
    "    processes the training file and saves them to batch files for loading them later\n",
    "    : data: data to be preprocessed that is fetched from the file\n",
    "    : enum_start: the index to start preprocessing from the whole data\n",
    "    : limit: the index to stop preprocessing from the whole data\n",
    "    : file_suffix: the suffix to add to the file name\n",
    "    : return: void\n",
    "    \"\"\"\n",
    "    final_data_features = list()\n",
    "    final_data_labels = list()\n",
    "    \n",
    "    final_data_features_array = np.array([])\n",
    "    final_data_labels_array = np.array([])\n",
    "    \n",
    "    #loading data from file\n",
    "    print('Starting to go through the Set. Time: {0}'.format(time.ctime()))\n",
    "    \n",
    "    init =  0 if enum_start == None else enum_start\n",
    "    for c, record in enumerate(data, start=init):\n",
    "        if(c % show_every ==0):\n",
    "            print('processed records: {0}'.format(c))\n",
    "        if(c > limit):\n",
    "            break\n",
    "        process_record_train(record, final_data_features, final_data_labels)\n",
    "        \n",
    "    print('File is processed. Time: {0}'.format(time.ctime()))\n",
    "    \n",
    "    final_data_features_array = np.array(final_data_features, dtype='object')\n",
    "    final_data_labels_array = np.array(final_data_labels, dtype='int16')\n",
    "    \n",
    "    #print(final_data_array.shape)\n",
    "    #print(final_data[0])\n",
    "    \n",
    "    #save preprocessed data to batch files after one hot encoding them\n",
    "    save_preprocessed_data(final_data_features_array, final_data_labels_array, file_suffix)\n",
    "    print('Preprocessing is done and saved. Time: {0}'.format(time.ctime()))"
   ]
  },
  {
   "cell_type": "code",
   "execution_count": 8,
   "metadata": {
    "collapsed": true
   },
   "outputs": [],
   "source": [
    "#test data preprocess function \n",
    "def process_test_file(data, enum_start=None, limit=None, file_suffix=''):\n",
    "    \"\"\"\n",
    "    processes test file and saves the output to batch files for loading them later\n",
    "    : data: data to be preprocessed that is fetched from the file\n",
    "    : enum_start: the index to start preprocessing from the whole data\n",
    "    : limit: the index to stop preprocessing from the whole data\n",
    "    : file_suffix: the suffix to add to the file name\n",
    "    : return: void\n",
    "    \"\"\"\n",
    "    final_test_data_features = list()\n",
    "    final_test_data_labels = list()\n",
    "    \n",
    "    final_test_data_features_array = np.array([])\n",
    "    final_test_data_labels_array = np.array([])\n",
    "    \n",
    "    #loading data from file\n",
    "    print('TestFile: Starting to go through the Set. Time: {0}'.format(time.ctime()))\n",
    "    \n",
    "    init =  0 if enum_start == None else enum_start\n",
    "    \n",
    "    for c, record in enumerate(data, start=init):\n",
    "        if(c % show_every==0):\n",
    "            print('processed records: {0}'.format(c))\n",
    "        if(c > limit):\n",
    "            break\n",
    "        process_record_test(record, final_test_data_features, final_test_data_labels)\n",
    "    \n",
    "    print('TestFile: File is processed. Time: {0}'.format(time.ctime()))\n",
    "    \n",
    "    final_test_data_features_array = np.array(final_test_data_features, dtype='object')\n",
    "    final_test_data_labels_array = np.array(final_test_data_labels, dtype='int16')\n",
    "    \n",
    "    #save preprocessed data to batch files after one hot encoding them\n",
    "    save_preprocessed_test_data(final_test_data_features_array, final_test_data_labels_array, file_suffix)\n",
    "    print('Preprocessing is done and saved. Time: {0}'.format(time.ctime()))"
   ]
  },
  {
   "cell_type": "code",
   "execution_count": 9,
   "metadata": {
    "collapsed": true
   },
   "outputs": [],
   "source": [
    "def process_all_categories_array(all_categories_array, processed_filename):\n",
    "    \"\"\"\n",
    "    processes all categories found in training data and creates dictionaries for faster reference\n",
    "    : all_categories_array: array that contains all categories to form one hot encoding\n",
    "    : return: void\n",
    "    \"\"\"\n",
    "    global categ_to_int, int_to_categ\n",
    "    categories_length = len(all_categories_array)\n",
    "    categ_to_int = { categ:idx for idx, categ in enumerate(all_categories_array) }\n",
    "    int_to_categ = { idx:categ for idx, categ in enumerate(all_categories_array) }\n",
    "    \n",
    "    pickle.dump((categ_to_int, int_to_categ), open(processed_filename, 'wb'))"
   ]
  },
  {
   "cell_type": "code",
   "execution_count": 10,
   "metadata": {
    "collapsed": true
   },
   "outputs": [],
   "source": [
    "def load_categ_to_int_dicts(data_file_path):\n",
    "    \"\"\"\n",
    "    restores categ_to_int and int_to_categ object dictionaries from saved state files if exist\n",
    "    : data_file_path: actual data file path - to represent the mode (train or train example)\n",
    "    \"\"\"\n",
    "    process_filename = data_file_path[data_file_path.rfind('/')+1:]\n",
    "    filename_suffix = process_filename.replace('.bson','')\n",
    "    categories_filename = all_categories_filename_format.format(filename_suffix)\n",
    "    \n",
    "    with open(categories_filename, 'rb') as f:\n",
    "        \n",
    "        global categ_to_int, int_to_categ\n",
    "        \n",
    "        categ_to_int, int_to_categ = pickle.load(f)"
   ]
  },
  {
   "cell_type": "code",
   "execution_count": 11,
   "metadata": {
    "collapsed": true
   },
   "outputs": [],
   "source": [
    "def create_one_hot_label(original_label, label_length, one_hot_labels):\n",
    "    \"\"\"\n",
    "    creates one hot label for a given original label value. A sub function for multi core processing of one hot encode function\n",
    "    : label_length: length of label to initialize the array\n",
    "    : one_hot_labels: the array that contains all one hot label\n",
    "    : return: void\n",
    "    \"\"\"\n",
    "    one_hot_label = np.zeros(label_length, dtype='int16')\n",
    "    \n",
    "    #commenting below line since now conversion to index happens while preparing the matrix.\n",
    "    #one_hot_label[categ_to_int[original_label]] = 1\n",
    "    #so changing it to\n",
    "    one_hot_label[original_label] = 1\n",
    "    \n",
    "    one_hot_labels.append(one_hot_label)\n",
    "\n",
    "def one_hot_encode(data_batch):\n",
    "    \"\"\"\n",
    "    creates one hot encoded label for the given data batch using multi-core processing\n",
    "    : data_batch: the sub-section of original final training data\n",
    "    : return: array of one hot encoded label\n",
    "    \"\"\"\n",
    "    one_hot_labels = list()\n",
    "    label_length = len(categ_to_int)\n",
    "    \n",
    "    #print(data_batch)\n",
    "    \n",
    "    for i in range(len(data_batch)):\n",
    "        original_label = data_batch[i][1] # category column\n",
    "        create_one_hot_label(original_label, label_length, one_hot_labels)\n",
    "\n",
    "    one_hot_labels = np.array(list(one_hot_labels))\n",
    "    \n",
    "    return one_hot_labels"
   ]
  },
  {
   "cell_type": "code",
   "execution_count": 23,
   "metadata": {
    "collapsed": true
   },
   "outputs": [],
   "source": [
    "def save_preprocessed_data(final_data_features_array, final_data_labels_array, file_suffix='', filetype=''):\n",
    "    \"\"\"\n",
    "    saves preprocessed data array into batch files using pickle\n",
    "    : final_data_features_array: image data array formed from file\n",
    "    : final_data_labels_array: label and product id data array formed from file\n",
    "    : file_suffix: file suffix to be appended with saved file name\n",
    "    : return: void\n",
    "    \"\"\"\n",
    "    final_data_length = len(final_data_features_array)\n",
    "    # one hot encode all the categories / labels\n",
    "    labels_array = one_hot_encode(final_data_labels_array)\n",
    "        \n",
    "    features = final_data_features_array\n",
    "    labels =  labels_array\n",
    "\n",
    "    filename = train_data_batch_file_format.format(0, file_suffix)\n",
    "    pickle.dump(features, open(filename, 'wb'))\n",
    "    labels_filename = train_data_batch_file_format.format('_labels_0', file_suffix)\n",
    "    pickle.dump(labels, open(labels_filename, 'wb'))"
   ]
  },
  {
   "cell_type": "code",
   "execution_count": 19,
   "metadata": {
    "collapsed": true
   },
   "outputs": [],
   "source": [
    "def save_preprocessed_test_data(final_test_data_features_array, final_test_data_labels_array, file_suffix = ''):\n",
    "    \"\"\"\n",
    "    saves preprocessed data array into batch files using pickle\n",
    "    : final_test_data_features_array: test image data array formed from file\n",
    "    : final_test_data_labels_array: test prod ids data array formed from file\n",
    "    : file_suffix: file suffix to be appended with saved file name\n",
    "    : return: void\n",
    "    \"\"\"\n",
    "    final_data_length = len(final_test_data_features_array)\n",
    "    \n",
    "    features = final_test_data_features_array\n",
    "    product_ids = final_test_data_labels_array\n",
    "    \n",
    "    filename = test_data_batch_file_format.format(0, file_suffix)\n",
    "    pickle.dump((features, product_ids), open(filename, 'wb'))"
   ]
  },
  {
   "cell_type": "code",
   "execution_count": 14,
   "metadata": {},
   "outputs": [
    {
     "name": "stdout",
     "output_type": "stream",
     "text": [
      "File already exists. Seems already it is processed.\n"
     ]
    }
   ],
   "source": [
    "#process_all_categories('data/train_example.bson')"
   ]
  },
  {
   "cell_type": "code",
   "execution_count": 37,
   "metadata": {},
   "outputs": [
    {
     "name": "stdout",
     "output_type": "stream",
     "text": [
      "Multicore processing Queue, Lock, and Pool have been initialized and set up.\n",
      "The data file has been loaded.\n",
      "Starting to go through the file. Time: Tue Oct 10 19:52:25 2017\n",
      "File is processed. Time: Tue Oct 10 19:52:25 2017\n",
      "Preprocessing is done and saved. Time: Tue Oct 10 19:52:25 2017\n"
     ]
    }
   ],
   "source": [
    "#test with training example file\n",
    "\n",
    "#process_training_file('data/train_example.bson')"
   ]
  },
  {
   "cell_type": "code",
   "execution_count": null,
   "metadata": {
    "collapsed": true
   },
   "outputs": [],
   "source": [
    "#final_data_array[:,1]"
   ]
  },
  {
   "cell_type": "code",
   "execution_count": null,
   "metadata": {
    "collapsed": true
   },
   "outputs": [],
   "source": [
    "#process_training_file('data/train.bson')"
   ]
  },
  {
   "cell_type": "code",
   "execution_count": 85,
   "metadata": {
    "collapsed": true
   },
   "outputs": [],
   "source": [
    "#load_categ_to_int_dicts('data/train_example.bson')"
   ]
  },
  {
   "cell_type": "code",
   "execution_count": 88,
   "metadata": {},
   "outputs": [
    {
     "name": "stdout",
     "output_type": "stream",
     "text": [
      "Starting to go through the file. Time: Tue Oct 10 20:47:24 2017\n",
      "records processed: 0, time: Tue Oct 10 20:47:24 2017\n",
      "records processed: 100000, time: Tue Oct 10 20:47:30 2017\n",
      "records processed: 200000, time: Tue Oct 10 20:47:37 2017\n",
      "records processed: 300000, time: Tue Oct 10 20:47:44 2017\n",
      "records processed: 400000, time: Tue Oct 10 20:47:50 2017\n",
      "records processed: 500000, time: Tue Oct 10 20:47:57 2017\n",
      "records processed: 600000, time: Tue Oct 10 20:48:03 2017\n",
      "records processed: 700000, time: Tue Oct 10 20:48:10 2017\n",
      "records processed: 800000, time: Tue Oct 10 20:48:16 2017\n",
      "records processed: 900000, time: Tue Oct 10 20:48:23 2017\n",
      "records processed: 1000000, time: Tue Oct 10 20:48:29 2017\n",
      "records processed: 1100000, time: Tue Oct 10 20:48:36 2017\n",
      "records processed: 1200000, time: Tue Oct 10 20:48:43 2017\n",
      "records processed: 1300000, time: Tue Oct 10 20:48:49 2017\n",
      "records processed: 1400000, time: Tue Oct 10 20:48:56 2017\n",
      "records processed: 1500000, time: Tue Oct 10 20:49:02 2017\n",
      "records processed: 1600000, time: Tue Oct 10 20:49:09 2017\n",
      "records processed: 1700000, time: Tue Oct 10 20:49:15 2017\n",
      "records processed: 1800000, time: Tue Oct 10 20:49:22 2017\n",
      "records processed: 1900000, time: Tue Oct 10 20:49:28 2017\n",
      "records processed: 2000000, time: Tue Oct 10 20:49:35 2017\n",
      "records processed: 2100000, time: Tue Oct 10 20:49:43 2017\n",
      "records processed: 2200000, time: Tue Oct 10 20:49:50 2017\n",
      "records processed: 2300000, time: Tue Oct 10 20:49:58 2017\n",
      "records processed: 2400000, time: Tue Oct 10 20:50:05 2017\n",
      "records processed: 2500000, time: Tue Oct 10 20:50:13 2017\n",
      "records processed: 2600000, time: Tue Oct 10 20:50:21 2017\n",
      "records processed: 2700000, time: Tue Oct 10 20:50:29 2017\n",
      "records processed: 2800000, time: Tue Oct 10 20:50:36 2017\n",
      "records processed: 2900000, time: Tue Oct 10 20:50:44 2017\n",
      "records processed: 3000000, time: Tue Oct 10 20:50:51 2017\n",
      "records processed: 3100000, time: Tue Oct 10 20:50:59 2017\n",
      "records processed: 3200000, time: Tue Oct 10 20:51:06 2017\n",
      "records processed: 3300000, time: Tue Oct 10 20:51:13 2017\n",
      "records processed: 3400000, time: Tue Oct 10 20:51:21 2017\n",
      "records processed: 3500000, time: Tue Oct 10 20:51:28 2017\n",
      "records processed: 3600000, time: Tue Oct 10 20:51:35 2017\n",
      "records processed: 3700000, time: Tue Oct 10 20:51:42 2017\n",
      "records processed: 3800000, time: Tue Oct 10 20:51:50 2017\n",
      "records processed: 3900000, time: Tue Oct 10 20:51:57 2017\n",
      "records processed: 4000000, time: Tue Oct 10 20:52:04 2017\n",
      "records processed: 4100000, time: Tue Oct 10 20:52:12 2017\n",
      "records processed: 4200000, time: Tue Oct 10 20:52:19 2017\n",
      "records processed: 4300000, time: Tue Oct 10 20:52:27 2017\n",
      "records processed: 4400000, time: Tue Oct 10 20:52:34 2017\n",
      "records processed: 4500000, time: Tue Oct 10 20:52:42 2017\n",
      "records processed: 4600000, time: Tue Oct 10 20:52:49 2017\n",
      "records processed: 4700000, time: Tue Oct 10 20:52:56 2017\n",
      "records processed: 4800000, time: Tue Oct 10 20:53:04 2017\n",
      "records processed: 4900000, time: Tue Oct 10 20:53:11 2017\n",
      "records processed: 5000000, time: Tue Oct 10 20:53:18 2017\n",
      "records processed: 5100000, time: Tue Oct 10 20:53:26 2017\n",
      "records processed: 5200000, time: Tue Oct 10 20:53:33 2017\n",
      "records processed: 5300000, time: Tue Oct 10 20:53:40 2017\n",
      "records processed: 5400000, time: Tue Oct 10 20:53:48 2017\n",
      "records processed: 5500000, time: Tue Oct 10 20:53:55 2017\n",
      "records processed: 5600000, time: Tue Oct 10 20:54:02 2017\n",
      "records processed: 5700000, time: Tue Oct 10 20:54:10 2017\n",
      "records processed: 5800000, time: Tue Oct 10 20:54:18 2017\n",
      "records processed: 5900000, time: Tue Oct 10 20:54:26 2017\n",
      "records processed: 6000000, time: Tue Oct 10 20:54:34 2017\n",
      "records processed: 6100000, time: Tue Oct 10 20:54:41 2017\n",
      "records processed: 6200000, time: Tue Oct 10 20:54:49 2017\n",
      "records processed: 6300000, time: Tue Oct 10 20:54:56 2017\n",
      "records processed: 6400000, time: Tue Oct 10 20:55:04 2017\n",
      "records processed: 6500000, time: Tue Oct 10 20:55:11 2017\n",
      "records processed: 6600000, time: Tue Oct 10 20:55:18 2017\n",
      "records processed: 6700000, time: Tue Oct 10 20:55:26 2017\n",
      "records processed: 6800000, time: Tue Oct 10 20:55:35 2017\n",
      "records processed: 6900000, time: Tue Oct 10 20:55:42 2017\n",
      "records processed: 7000000, time: Tue Oct 10 20:55:49 2017\n",
      "File is processed. Time: Tue Oct 10 20:55:54 2017\n",
      "all categories processed.\n"
     ]
    }
   ],
   "source": [
    "process_all_categories('data/train.bson')"
   ]
  },
  {
   "cell_type": "code",
   "execution_count": 89,
   "metadata": {},
   "outputs": [
    {
     "data": {
      "text/plain": [
       "'Tue Oct 10 21:02:47 2017'"
      ]
     },
     "execution_count": 89,
     "metadata": {},
     "output_type": "execute_result"
    }
   ],
   "source": [
    "time.ctime()"
   ]
  },
  {
   "cell_type": "code",
   "execution_count": 14,
   "metadata": {
    "collapsed": true
   },
   "outputs": [],
   "source": [
    "#Load dictionaries - categ_to_int and int_to_categ from files to objects\n",
    "load_categ_to_int_dicts('data/train.bson')"
   ]
  },
  {
   "cell_type": "code",
   "execution_count": 32,
   "metadata": {},
   "outputs": [
    {
     "data": {
      "text/plain": [
       "5270"
      ]
     },
     "execution_count": 32,
     "metadata": {},
     "output_type": "execute_result"
    }
   ],
   "source": [
    "len(categ_to_int)"
   ]
  },
  {
   "cell_type": "code",
   "execution_count": null,
   "metadata": {
    "collapsed": true
   },
   "outputs": [],
   "source": [
    "def preprocess_test_batches(filepath, override_batch=None):\n",
    "    \"\"\"\n",
    "    preprocesses batches and saves them in batches to end up losing data due to long running processes\n",
    "    : filepath: path of file to be processed\n",
    "    \"\"\"\n",
    "    input_data = bson.decode_file_iter(open(filepath, 'rb'))\n",
    "    \n",
    "    limit = 10000\n",
    "    batches_count = int(n_test / limit)\n",
    "    batch_range = batches_count if override_batch is None else override_batch\n",
    "    for batch_idx in range(batch_range):\n",
    "        print('starting with batch: {0}'.format(batch_idx))\n",
    "        result_filename = test_data_batch_file_format.format(0, batch_idx)\n",
    "        if os.path.isfile(result_filename):\n",
    "            print('Batch File: {0} already exists. Seems already it is processed. Moving on..'.format(result_filename))\n",
    "            continue\n",
    "        try:\n",
    "            process_test_file(input_data, enum_start=batch_idx*limit, limit=(batch_idx+1)*limit, file_suffix=batch_idx)\n",
    "        except:\n",
    "            print(\"Error in processing training batch:{0}, limit:{2}, error:{1}\".format(batch_idx, sys.exc_info()[0], limit))\n",
    "        \n",
    "    print('all test files are preprocessed. cool!')"
   ]
  },
  {
   "cell_type": "code",
   "execution_count": 16,
   "metadata": {
    "collapsed": true
   },
   "outputs": [],
   "source": [
    "def preprocess_training_batches(filepath, override_batch=None):\n",
    "    \"\"\"\n",
    "    preprocesses batches and saves them in batches to end up losing data due to long running processes\n",
    "    : filepath: path of file to be processed\n",
    "    \"\"\"\n",
    "    input_data = bson.decode_file_iter(open(filepath, 'rb'))\n",
    "    \n",
    "    limit = 10000\n",
    "    batches_count = int(n_train / limit)\n",
    "    batch_range = batches_count if override_batch is None else override_batch\n",
    "    for batch_idx in range(batch_range):\n",
    "        print('starting with batch: {0}'.format(batch_idx))\n",
    "        result_filename = train_data_batch_file_format.format(0, batch_idx)\n",
    "        if os.path.isfile(result_filename):\n",
    "            print('Batch File: {0} already exists. Seems already it is processed. Moving on..'.format(result_filename))\n",
    "            continue\n",
    "        try:\n",
    "            process_training_file(input_data, enum_start=batch_idx*limit, limit=(batch_idx+1)*limit, file_suffix=batch_idx)\n",
    "        except:\n",
    "            print(\"Error in processing training batch:{0}, limit:{2}, error:{1}\".format(batch_idx, sys.exc_info()[0], limit))\n",
    "        \n",
    "    print('all training files are preprocessed. cool!')"
   ]
  },
  {
   "cell_type": "code",
   "execution_count": 22,
   "metadata": {},
   "outputs": [
    {
     "name": "stdout",
     "output_type": "stream",
     "text": [
      "starting with batch: 0\n",
      "Starting to go through the Set. Time: Fri Oct 13 20:41:35 2017\n",
      "processed records: 0\n",
      "processed records: 10000\n",
      "File is processed. Time: Fri Oct 13 20:41:47 2017\n"
     ]
    },
    {
     "ename": "NameError",
     "evalue": "name 'sys' is not defined",
     "output_type": "error",
     "traceback": [
      "\u001b[0;31m---------------------------------------------------------------------------\u001b[0m",
      "\u001b[0;31mFileNotFoundError\u001b[0m                         Traceback (most recent call last)",
      "\u001b[0;32m<ipython-input-16-5dd281260ab0>\u001b[0m in \u001b[0;36mpreprocess_training_batches\u001b[0;34m(filepath, override_batch)\u001b[0m\n\u001b[1;32m     17\u001b[0m         \u001b[0;32mtry\u001b[0m\u001b[0;34m:\u001b[0m\u001b[0;34m\u001b[0m\u001b[0m\n\u001b[0;32m---> 18\u001b[0;31m             \u001b[0mprocess_training_file\u001b[0m\u001b[0;34m(\u001b[0m\u001b[0minput_data\u001b[0m\u001b[0;34m,\u001b[0m \u001b[0menum_start\u001b[0m\u001b[0;34m=\u001b[0m\u001b[0mbatch_idx\u001b[0m\u001b[0;34m*\u001b[0m\u001b[0mlimit\u001b[0m\u001b[0;34m,\u001b[0m \u001b[0mlimit\u001b[0m\u001b[0;34m=\u001b[0m\u001b[0;34m(\u001b[0m\u001b[0mbatch_idx\u001b[0m\u001b[0;34m+\u001b[0m\u001b[0;36m1\u001b[0m\u001b[0;34m)\u001b[0m\u001b[0;34m*\u001b[0m\u001b[0mlimit\u001b[0m\u001b[0;34m,\u001b[0m \u001b[0mfile_suffix\u001b[0m\u001b[0;34m=\u001b[0m\u001b[0mbatch_idx\u001b[0m\u001b[0;34m)\u001b[0m\u001b[0;34m\u001b[0m\u001b[0m\n\u001b[0m\u001b[1;32m     19\u001b[0m         \u001b[0;32mexcept\u001b[0m\u001b[0;34m:\u001b[0m\u001b[0;34m\u001b[0m\u001b[0m\n",
      "\u001b[0;32m<ipython-input-7-b07166f56be8>\u001b[0m in \u001b[0;36mprocess_training_file\u001b[0;34m(data, enum_start, limit, file_suffix)\u001b[0m\n\u001b[1;32m     36\u001b[0m     \u001b[0;31m#save preprocessed data to batch files after one hot encoding them\u001b[0m\u001b[0;34m\u001b[0m\u001b[0;34m\u001b[0m\u001b[0m\n\u001b[0;32m---> 37\u001b[0;31m     \u001b[0msave_preprocessed_data\u001b[0m\u001b[0;34m(\u001b[0m\u001b[0mfinal_data_features_array\u001b[0m\u001b[0;34m,\u001b[0m \u001b[0mfinal_data_labels_array\u001b[0m\u001b[0;34m,\u001b[0m \u001b[0mfile_suffix\u001b[0m\u001b[0;34m)\u001b[0m\u001b[0;34m\u001b[0m\u001b[0m\n\u001b[0m\u001b[1;32m     38\u001b[0m     \u001b[0mprint\u001b[0m\u001b[0;34m(\u001b[0m\u001b[0;34m'Preprocessing is done and saved. Time: {0}'\u001b[0m\u001b[0;34m.\u001b[0m\u001b[0mformat\u001b[0m\u001b[0;34m(\u001b[0m\u001b[0mtime\u001b[0m\u001b[0;34m.\u001b[0m\u001b[0mctime\u001b[0m\u001b[0;34m(\u001b[0m\u001b[0;34m)\u001b[0m\u001b[0;34m)\u001b[0m\u001b[0;34m)\u001b[0m\u001b[0;34m\u001b[0m\u001b[0m\n",
      "\u001b[0;32m<ipython-input-21-88f26ab5d72e>\u001b[0m in \u001b[0;36msave_preprocessed_data\u001b[0;34m(final_data_features_array, final_data_labels_array, file_suffix, filetype)\u001b[0m\n\u001b[1;32m     18\u001b[0m     \u001b[0mlabels_filename\u001b[0m \u001b[0;34m=\u001b[0m \u001b[0;34m'labels_'\u001b[0m \u001b[0;34m+\u001b[0m \u001b[0mtrain_data_batch_file_format\u001b[0m\u001b[0;34m.\u001b[0m\u001b[0mformat\u001b[0m\u001b[0;34m(\u001b[0m\u001b[0;36m0\u001b[0m\u001b[0;34m,\u001b[0m \u001b[0mfile_suffix\u001b[0m\u001b[0;34m)\u001b[0m\u001b[0;34m\u001b[0m\u001b[0m\n\u001b[0;32m---> 19\u001b[0;31m     \u001b[0mpickle\u001b[0m\u001b[0;34m.\u001b[0m\u001b[0mdump\u001b[0m\u001b[0;34m(\u001b[0m\u001b[0mlabels\u001b[0m\u001b[0;34m,\u001b[0m \u001b[0mopen\u001b[0m\u001b[0;34m(\u001b[0m\u001b[0mlabels_filename\u001b[0m\u001b[0;34m,\u001b[0m \u001b[0;34m'wb'\u001b[0m\u001b[0;34m)\u001b[0m\u001b[0;34m)\u001b[0m\u001b[0;34m\u001b[0m\u001b[0m\n\u001b[0m",
      "\u001b[0;31mFileNotFoundError\u001b[0m: [Errno 2] No such file or directory: 'labels_training_batches/train_data_batch_0_0.p'",
      "\nDuring handling of the above exception, another exception occurred:\n",
      "\u001b[0;31mNameError\u001b[0m                                 Traceback (most recent call last)",
      "\u001b[0;32m<ipython-input-22-48596e9d4dfa>\u001b[0m in \u001b[0;36m<module>\u001b[0;34m()\u001b[0m\n\u001b[0;32m----> 1\u001b[0;31m \u001b[0mpreprocess_training_batches\u001b[0m\u001b[0;34m(\u001b[0m\u001b[0;34m'data/train.bson'\u001b[0m\u001b[0;34m,\u001b[0m \u001b[0;36m1\u001b[0m\u001b[0;34m)\u001b[0m\u001b[0;34m\u001b[0m\u001b[0m\n\u001b[0m",
      "\u001b[0;32m<ipython-input-16-5dd281260ab0>\u001b[0m in \u001b[0;36mpreprocess_training_batches\u001b[0;34m(filepath, override_batch)\u001b[0m\n\u001b[1;32m     18\u001b[0m             \u001b[0mprocess_training_file\u001b[0m\u001b[0;34m(\u001b[0m\u001b[0minput_data\u001b[0m\u001b[0;34m,\u001b[0m \u001b[0menum_start\u001b[0m\u001b[0;34m=\u001b[0m\u001b[0mbatch_idx\u001b[0m\u001b[0;34m*\u001b[0m\u001b[0mlimit\u001b[0m\u001b[0;34m,\u001b[0m \u001b[0mlimit\u001b[0m\u001b[0;34m=\u001b[0m\u001b[0;34m(\u001b[0m\u001b[0mbatch_idx\u001b[0m\u001b[0;34m+\u001b[0m\u001b[0;36m1\u001b[0m\u001b[0;34m)\u001b[0m\u001b[0;34m*\u001b[0m\u001b[0mlimit\u001b[0m\u001b[0;34m,\u001b[0m \u001b[0mfile_suffix\u001b[0m\u001b[0;34m=\u001b[0m\u001b[0mbatch_idx\u001b[0m\u001b[0;34m)\u001b[0m\u001b[0;34m\u001b[0m\u001b[0m\n\u001b[1;32m     19\u001b[0m         \u001b[0;32mexcept\u001b[0m\u001b[0;34m:\u001b[0m\u001b[0;34m\u001b[0m\u001b[0m\n\u001b[0;32m---> 20\u001b[0;31m             \u001b[0mprint\u001b[0m\u001b[0;34m(\u001b[0m\u001b[0;34m\"Error in processing training batch:{0}, limit:{2}, error:{1}\"\u001b[0m\u001b[0;34m.\u001b[0m\u001b[0mformat\u001b[0m\u001b[0;34m(\u001b[0m\u001b[0mbatch_idx\u001b[0m\u001b[0;34m,\u001b[0m \u001b[0msys\u001b[0m\u001b[0;34m.\u001b[0m\u001b[0mexc_info\u001b[0m\u001b[0;34m(\u001b[0m\u001b[0;34m)\u001b[0m\u001b[0;34m[\u001b[0m\u001b[0;36m0\u001b[0m\u001b[0;34m]\u001b[0m\u001b[0;34m,\u001b[0m \u001b[0mlimit\u001b[0m\u001b[0;34m)\u001b[0m\u001b[0;34m)\u001b[0m\u001b[0;34m\u001b[0m\u001b[0m\n\u001b[0m\u001b[1;32m     21\u001b[0m \u001b[0;34m\u001b[0m\u001b[0m\n\u001b[1;32m     22\u001b[0m     \u001b[0mprint\u001b[0m\u001b[0;34m(\u001b[0m\u001b[0;34m'all training files are preprocessed. cool!'\u001b[0m\u001b[0;34m)\u001b[0m\u001b[0;34m\u001b[0m\u001b[0m\n",
      "\u001b[0;31mNameError\u001b[0m: name 'sys' is not defined"
     ]
    }
   ],
   "source": [
    "preprocess_training_batches('data/train.bson', 1)"
   ]
  },
  {
   "cell_type": "code",
   "execution_count": null,
   "metadata": {
    "collapsed": true
   },
   "outputs": [],
   "source": []
  }
 ],
 "metadata": {
  "kernelspec": {
   "display_name": "Python 3",
   "language": "python",
   "name": "python3"
  },
  "language_info": {
   "codemirror_mode": {
    "name": "ipython",
    "version": 3
   },
   "file_extension": ".py",
   "mimetype": "text/x-python",
   "name": "python",
   "nbconvert_exporter": "python",
   "pygments_lexer": "ipython3",
   "version": "3.6.2"
  }
 },
 "nbformat": 4,
 "nbformat_minor": 2
}
